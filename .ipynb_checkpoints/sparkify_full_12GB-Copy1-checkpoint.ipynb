{
 "cells": [
  {
   "cell_type": "markdown",
   "id": "b2673689",
   "metadata": {},
   "source": [
    "# Sparkify Project - Music Streaming Data\n",
    "\n",
    "This project aims to leverage approximate **27,000,000** Sparkify user activity records to predict user churn, identifying those most likely to discontinue their engagement. The process involves the retrieval of the complete **12GB dataset** from **AWS S3** and its subsequent processing on an **AWS EMR cluster**. We employ **Spark** for data wrangling, feature engineering, model training, and hyperparameter tuning."
   ]
  },
  {
   "cell_type": "markdown",
   "id": "c8950dd3",
   "metadata": {},
   "source": [
    "### Import libraries from PySpark and Python"
   ]
  },
  {
   "cell_type": "markdown",
   "id": "e5d28de4-4c8c-4fd9-b6e0-a5506843598e",
   "metadata": {
    "execution": {
     "iopub.execute_input": "2023-09-05T01:56:33.929601Z",
     "iopub.status.busy": "2023-09-05T01:56:33.929378Z",
     "iopub.status.idle": "2023-09-05T01:57:02.607275Z",
     "shell.execute_reply": "2023-09-05T01:57:02.606615Z",
     "shell.execute_reply.started": "2023-09-05T01:56:33.929577Z"
    },
    "tags": []
   },
   "source": [
    "### Connect to AWS EMR cluster"
   ]
  },
  {
   "cell_type": "code",
   "execution_count": 1,
   "id": "07d1a79a-6c88-43da-be1c-7e9a53d52c63",
   "metadata": {
    "execution": {
     "iopub.execute_input": "2023-09-05T03:01:45.770876Z",
     "iopub.status.busy": "2023-09-05T03:01:45.770508Z",
     "iopub.status.idle": "2023-09-05T03:02:14.406841Z",
     "shell.execute_reply": "2023-09-05T03:02:14.406123Z",
     "shell.execute_reply.started": "2023-09-05T03:01:45.770829Z"
    }
   },
   "outputs": [
    {
     "data": {
      "application/vnd.jupyter.widget-view+json": {
       "model_id": "10764e72a3044a61adf2ac4515dd92dd",
       "version_major": 2,
       "version_minor": 0
      },
      "text/plain": [
       "VBox()"
      ]
     },
     "metadata": {},
     "output_type": "display_data"
    },
    {
     "name": "stdout",
     "output_type": "stream",
     "text": [
      "Starting Spark application\n"
     ]
    },
    {
     "data": {
      "text/html": [
       "<table>\n",
       "<tr><th>ID</th><th>YARN Application ID</th><th>Kind</th><th>State</th><th>Spark UI</th><th>Driver log</th><th>Current session?</th></tr><tr><td>3</td><td>application_1693877095915_0005</td><td>pyspark</td><td>idle</td><td><a target=\"_blank\" href=\"http://ip-172-31-11-142.us-east-2.compute.internal:20888/proxy/application_1693877095915_0005/\" >Link</a></td><td><a target=\"_blank\" href=\"http://ip-172-31-7-92.us-east-2.compute.internal:8042/node/containerlogs/container_1693877095915_0005_01_000001/livy\" >Link</a></td><td>✔</td></tr></table>"
      ],
      "text/plain": [
       "<IPython.core.display.HTML object>"
      ]
     },
     "metadata": {},
     "output_type": "display_data"
    },
    {
     "data": {
      "application/vnd.jupyter.widget-view+json": {
       "model_id": "",
       "version_major": 2,
       "version_minor": 0
      },
      "text/plain": [
       "FloatProgress(value=0.0, bar_style='info', description='Progress:', layout=Layout(height='25px', width='50%'),…"
      ]
     },
     "metadata": {},
     "output_type": "display_data"
    },
    {
     "name": "stdout",
     "output_type": "stream",
     "text": [
      "SparkSession available as 'spark'.\n"
     ]
    },
    {
     "data": {
      "application/vnd.jupyter.widget-view+json": {
       "model_id": "",
       "version_major": 2,
       "version_minor": 0
      },
      "text/plain": [
       "FloatProgress(value=0.0, bar_style='info', description='Progress:', layout=Layout(height='25px', width='50%'),…"
      ]
     },
     "metadata": {},
     "output_type": "display_data"
    }
   ],
   "source": [
    "# Start Spark Session"
   ]
  },
  {
   "cell_type": "code",
   "execution_count": 38,
   "id": "d3fdb45b",
   "metadata": {
    "execution": {
     "iopub.execute_input": "2023-09-05T02:19:04.261038Z",
     "iopub.status.busy": "2023-09-05T02:19:04.260813Z",
     "iopub.status.idle": "2023-09-05T02:19:04.320472Z",
     "shell.execute_reply": "2023-09-05T02:19:04.319916Z",
     "shell.execute_reply.started": "2023-09-05T02:19:04.261015Z"
    },
    "tags": []
   },
   "outputs": [
    {
     "data": {
      "application/vnd.jupyter.widget-view+json": {
       "model_id": "2d24ae651ba2473aa724b62945c45bdd",
       "version_major": 2,
       "version_minor": 0
      },
      "text/plain": [
       "VBox()"
      ]
     },
     "metadata": {},
     "output_type": "display_data"
    },
    {
     "data": {
      "application/vnd.jupyter.widget-view+json": {
       "model_id": "",
       "version_major": 2,
       "version_minor": 0
      },
      "text/plain": [
       "FloatProgress(value=0.0, bar_style='info', description='Progress:', layout=Layout(height='25px', width='50%'),…"
      ]
     },
     "metadata": {},
     "output_type": "display_data"
    }
   ],
   "source": [
    "# Spark SQL\n",
    "from pyspark.sql import SparkSession\n",
    "from pyspark.sql.functions import isnan, count, when, desc, udf, col, sort_array, asc, avg, lit, max, min, countDistinct\n",
    "import pyspark.sql.functions as F\n",
    "from pyspark.sql.window import Window\n",
    "from pyspark.sql.types import IntegerType\n",
    "\n",
    "# Spark ML\n",
    "from pyspark.ml import Pipeline\n",
    "from pyspark.ml.feature import MinMaxScaler, OneHotEncoder, StringIndexer, VectorAssembler\n",
    "from pyspark.ml.classification import LogisticRegression, GBTClassifier, NaiveBayes, LinearSVC, RandomForestClassifier\n",
    "from pyspark.ml.tuning import CrossValidator, ParamGridBuilder\n",
    "from pyspark.ml.evaluation import MulticlassClassificationEvaluator, BinaryClassificationEvaluator\n",
    "\n",
    "# Python basic\n",
    "import datetime\n",
    "import numpy as np\n",
    "\n",
    "import warnings\n",
    "warnings.filterwarnings(\"ignore\")"
   ]
  },
  {
   "cell_type": "markdown",
   "id": "6ef5f79d",
   "metadata": {},
   "source": [
    "### Create a Spark session & Load 12GB full data from AWS S3"
   ]
  },
  {
   "cell_type": "code",
   "execution_count": 3,
   "id": "b77e077e",
   "metadata": {
    "execution": {
     "iopub.execute_input": "2023-09-05T01:57:11.010663Z",
     "iopub.status.busy": "2023-09-05T01:57:11.010444Z",
     "iopub.status.idle": "2023-09-05T01:57:54.473906Z",
     "shell.execute_reply": "2023-09-05T01:57:54.473223Z",
     "shell.execute_reply.started": "2023-09-05T01:57:11.010638Z"
    },
    "tags": []
   },
   "outputs": [
    {
     "data": {
      "application/vnd.jupyter.widget-view+json": {
       "model_id": "6b1aa967f9204a66955486d063c93270",
       "version_major": 2,
       "version_minor": 0
      },
      "text/plain": [
       "VBox()"
      ]
     },
     "metadata": {},
     "output_type": "display_data"
    },
    {
     "data": {
      "application/vnd.jupyter.widget-view+json": {
       "model_id": "",
       "version_major": 2,
       "version_minor": 0
      },
      "text/plain": [
       "FloatProgress(value=0.0, bar_style='info', description='Progress:', layout=Layout(height='25px', width='50%'),…"
      ]
     },
     "metadata": {},
     "output_type": "display_data"
    },
    {
     "name": "stdout",
     "output_type": "stream",
     "text": [
      "Row(artist='Popol Vuh', auth='Logged In', firstName='Shlok', gender='M', itemInSession=278, lastName='Johnson', length=524.32934, level='paid', location='Dallas-Fort Worth-Arlington, TX', method='PUT', page='NextSong', registration=1533734541000, sessionId=22683, song='Ich mache einen Spiegel - Dream Part 4', status=200, ts=1538352001000, userAgent='\"Mozilla/5.0 (Windows NT 6.1; WOW64) AppleWebKit/537.36 (KHTML, like Gecko) Chrome/36.0.1985.143 Safari/537.36\"', userId='1749042')"
     ]
    }
   ],
   "source": [
    "# Download java first# Create a SparkSession with the application name \"sparkify\".\n",
    "# SparkSession is the entry point for interacting with the Spark cluster.\n",
    "# It requires Java Runtime Environment (JRE) to run, as Spark is built using Scala and Java.\n",
    "\n",
    "## Create spark session\n",
    "spark = SparkSession \\\n",
    "    .builder \\\n",
    "    .appName(\"Sparkify\") \\\n",
    "    .getOrCreate()\n",
    "\n",
    "## Read in full sparkify dataset\n",
    "event_data = \"s3n://udacity-dsnd/sparkify/sparkify_event_data.json\"\n",
    "df = spark.read.json(event_data)\n",
    "df.head()"
   ]
  },
  {
   "cell_type": "code",
   "execution_count": 4,
   "id": "d1fafa26",
   "metadata": {
    "execution": {
     "iopub.execute_input": "2023-09-05T01:57:56.816122Z",
     "iopub.status.busy": "2023-09-05T01:57:56.815895Z",
     "iopub.status.idle": "2023-09-05T01:57:57.591433Z",
     "shell.execute_reply": "2023-09-05T01:57:57.590775Z",
     "shell.execute_reply.started": "2023-09-05T01:57:56.816097Z"
    },
    "tags": []
   },
   "outputs": [
    {
     "data": {
      "application/vnd.jupyter.widget-view+json": {
       "model_id": "3883006009c84a97abc29e5f396c4423",
       "version_major": 2,
       "version_minor": 0
      },
      "text/plain": [
       "VBox()"
      ]
     },
     "metadata": {},
     "output_type": "display_data"
    },
    {
     "data": {
      "application/vnd.jupyter.widget-view+json": {
       "model_id": "",
       "version_major": 2,
       "version_minor": 0
      },
      "text/plain": [
       "FloatProgress(value=0.0, bar_style='info', description='Progress:', layout=Layout(height='25px', width='50%'),…"
      ]
     },
     "metadata": {},
     "output_type": "display_data"
    },
    {
     "name": "stdout",
     "output_type": "stream",
     "text": [
      "Row(artist='Popol Vuh', auth='Logged In', firstName='Shlok', gender='M', itemInSession=278, lastName='Johnson', length=524.32934, level='paid', location='Dallas-Fort Worth-Arlington, TX', method='PUT', page='NextSong', registration=1533734541000, sessionId=22683, song='Ich mache einen Spiegel - Dream Part 4', status=200, ts=1538352001000, userAgent='\"Mozilla/5.0 (Windows NT 6.1; WOW64) AppleWebKit/537.36 (KHTML, like Gecko) Chrome/36.0.1985.143 Safari/537.36\"', userId='1749042')"
     ]
    }
   ],
   "source": [
    "df.head()"
   ]
  },
  {
   "cell_type": "code",
   "execution_count": 5,
   "id": "0e534781",
   "metadata": {
    "execution": {
     "iopub.execute_input": "2023-09-05T01:57:58.378288Z",
     "iopub.status.busy": "2023-09-05T01:57:58.378067Z",
     "iopub.status.idle": "2023-09-05T01:57:58.645111Z",
     "shell.execute_reply": "2023-09-05T01:57:58.644431Z",
     "shell.execute_reply.started": "2023-09-05T01:57:58.378265Z"
    },
    "tags": []
   },
   "outputs": [
    {
     "data": {
      "application/vnd.jupyter.widget-view+json": {
       "model_id": "482915b664d74af496e567bdf1f527b3",
       "version_major": 2,
       "version_minor": 0
      },
      "text/plain": [
       "VBox()"
      ]
     },
     "metadata": {},
     "output_type": "display_data"
    },
    {
     "data": {
      "application/vnd.jupyter.widget-view+json": {
       "model_id": "",
       "version_major": 2,
       "version_minor": 0
      },
      "text/plain": [
       "FloatProgress(value=0.0, bar_style='info', description='Progress:', layout=Layout(height='25px', width='50%'),…"
      ]
     },
     "metadata": {},
     "output_type": "display_data"
    },
    {
     "name": "stdout",
     "output_type": "stream",
     "text": [
      "root\n",
      " |-- artist: string (nullable = true)\n",
      " |-- auth: string (nullable = true)\n",
      " |-- firstName: string (nullable = true)\n",
      " |-- gender: string (nullable = true)\n",
      " |-- itemInSession: long (nullable = true)\n",
      " |-- lastName: string (nullable = true)\n",
      " |-- length: double (nullable = true)\n",
      " |-- level: string (nullable = true)\n",
      " |-- location: string (nullable = true)\n",
      " |-- method: string (nullable = true)\n",
      " |-- page: string (nullable = true)\n",
      " |-- registration: long (nullable = true)\n",
      " |-- sessionId: long (nullable = true)\n",
      " |-- song: string (nullable = true)\n",
      " |-- status: long (nullable = true)\n",
      " |-- ts: long (nullable = true)\n",
      " |-- userAgent: string (nullable = true)\n",
      " |-- userId: string (nullable = true)"
     ]
    }
   ],
   "source": [
    "df.printSchema()"
   ]
  },
  {
   "cell_type": "code",
   "execution_count": 6,
   "id": "b0218dce",
   "metadata": {
    "execution": {
     "iopub.execute_input": "2023-09-05T01:58:02.475545Z",
     "iopub.status.busy": "2023-09-05T01:58:02.475221Z",
     "iopub.status.idle": "2023-09-05T01:58:31.855345Z",
     "shell.execute_reply": "2023-09-05T01:58:31.854613Z",
     "shell.execute_reply.started": "2023-09-05T01:58:02.475509Z"
    },
    "tags": []
   },
   "outputs": [
    {
     "data": {
      "application/vnd.jupyter.widget-view+json": {
       "model_id": "058bae0eb14d4857a1118725c2714e5a",
       "version_major": 2,
       "version_minor": 0
      },
      "text/plain": [
       "VBox()"
      ]
     },
     "metadata": {},
     "output_type": "display_data"
    },
    {
     "data": {
      "application/vnd.jupyter.widget-view+json": {
       "model_id": "",
       "version_major": 2,
       "version_minor": 0
      },
      "text/plain": [
       "FloatProgress(value=0.0, bar_style='info', description='Progress:', layout=Layout(height='25px', width='50%'),…"
      ]
     },
     "metadata": {},
     "output_type": "display_data"
    },
    {
     "name": "stdout",
     "output_type": "stream",
     "text": [
      "Total activity records: 26259199\n",
      "Total columns: 18"
     ]
    }
   ],
   "source": [
    "print('Total activity records:', df.count())\n",
    "print('Total columns:', len(df.columns))"
   ]
  },
  {
   "cell_type": "code",
   "execution_count": 7,
   "id": "98f087b1",
   "metadata": {
    "execution": {
     "iopub.execute_input": "2023-09-05T01:58:31.856518Z",
     "iopub.status.busy": "2023-09-05T01:58:31.856337Z",
     "iopub.status.idle": "2023-09-05T01:59:05.239349Z",
     "shell.execute_reply": "2023-09-05T01:59:05.238621Z",
     "shell.execute_reply.started": "2023-09-05T01:58:31.856490Z"
    },
    "tags": []
   },
   "outputs": [
    {
     "data": {
      "application/vnd.jupyter.widget-view+json": {
       "model_id": "12469f79045040c1b412f66aca6cc828",
       "version_major": 2,
       "version_minor": 0
      },
      "text/plain": [
       "VBox()"
      ]
     },
     "metadata": {},
     "output_type": "display_data"
    },
    {
     "data": {
      "application/vnd.jupyter.widget-view+json": {
       "model_id": "",
       "version_major": 2,
       "version_minor": 0
      },
      "text/plain": [
       "FloatProgress(value=0.0, bar_style='info', description='Progress:', layout=Layout(height='25px', width='50%'),…"
      ]
     },
     "metadata": {},
     "output_type": "display_data"
    },
    {
     "name": "stdout",
     "output_type": "stream",
     "text": [
      "+----------+\n",
      "|      auth|\n",
      "+----------+\n",
      "| Cancelled|\n",
      "|     Guest|\n",
      "| Logged In|\n",
      "|Logged Out|\n",
      "+----------+"
     ]
    }
   ],
   "source": [
    "df.select(\"auth\").dropDuplicates().sort(\"auth\").show()"
   ]
  },
  {
   "cell_type": "markdown",
   "id": "922b1927",
   "metadata": {},
   "source": [
    "### Clean data"
   ]
  },
  {
   "cell_type": "code",
   "execution_count": 8,
   "id": "3e918f77",
   "metadata": {
    "execution": {
     "iopub.execute_input": "2023-09-05T01:59:09.027025Z",
     "iopub.status.busy": "2023-09-05T01:59:09.026798Z",
     "iopub.status.idle": "2023-09-05T01:59:38.394234Z",
     "shell.execute_reply": "2023-09-05T01:59:38.393557Z",
     "shell.execute_reply.started": "2023-09-05T01:59:09.027001Z"
    },
    "tags": []
   },
   "outputs": [
    {
     "data": {
      "application/vnd.jupyter.widget-view+json": {
       "model_id": "8cf1fc1b44d144b2968584c37fa21386",
       "version_major": 2,
       "version_minor": 0
      },
      "text/plain": [
       "VBox()"
      ]
     },
     "metadata": {},
     "output_type": "display_data"
    },
    {
     "data": {
      "application/vnd.jupyter.widget-view+json": {
       "model_id": "",
       "version_major": 2,
       "version_minor": 0
      },
      "text/plain": [
       "FloatProgress(value=0.0, bar_style='info', description='Progress:', layout=Layout(height='25px', width='50%'),…"
      ]
     },
     "metadata": {},
     "output_type": "display_data"
    },
    {
     "name": "stdout",
     "output_type": "stream",
     "text": [
      "0"
     ]
    }
   ],
   "source": [
    "# Exclude \"not signed up\" user\n",
    "df.filter(df['userId']=='').count()"
   ]
  },
  {
   "cell_type": "code",
   "execution_count": 9,
   "id": "fae2dda6",
   "metadata": {
    "execution": {
     "iopub.execute_input": "2023-09-05T02:00:24.815097Z",
     "iopub.status.busy": "2023-09-05T02:00:24.814838Z",
     "iopub.status.idle": "2023-09-05T02:00:24.891998Z",
     "shell.execute_reply": "2023-09-05T02:00:24.891130Z",
     "shell.execute_reply.started": "2023-09-05T02:00:24.815072Z"
    },
    "tags": []
   },
   "outputs": [
    {
     "data": {
      "application/vnd.jupyter.widget-view+json": {
       "model_id": "89f63ac5b1484000b8e3a240713956c8",
       "version_major": 2,
       "version_minor": 0
      },
      "text/plain": [
       "VBox()"
      ]
     },
     "metadata": {},
     "output_type": "display_data"
    },
    {
     "data": {
      "application/vnd.jupyter.widget-view+json": {
       "model_id": "",
       "version_major": 2,
       "version_minor": 0
      },
      "text/plain": [
       "FloatProgress(value=0.0, bar_style='info', description='Progress:', layout=Layout(height='25px', width='50%'),…"
      ]
     },
     "metadata": {},
     "output_type": "display_data"
    }
   ],
   "source": [
    "df = df.filter(df['userId']!='')"
   ]
  },
  {
   "cell_type": "code",
   "execution_count": 10,
   "id": "45bc36e1",
   "metadata": {
    "execution": {
     "iopub.execute_input": "2023-09-05T02:00:27.662194Z",
     "iopub.status.busy": "2023-09-05T02:00:27.661971Z",
     "iopub.status.idle": "2023-09-05T02:00:27.746415Z",
     "shell.execute_reply": "2023-09-05T02:00:27.745715Z",
     "shell.execute_reply.started": "2023-09-05T02:00:27.662171Z"
    },
    "tags": []
   },
   "outputs": [
    {
     "data": {
      "application/vnd.jupyter.widget-view+json": {
       "model_id": "30b8514cfdcd44b8ba22a98bff83e503",
       "version_major": 2,
       "version_minor": 0
      },
      "text/plain": [
       "VBox()"
      ]
     },
     "metadata": {},
     "output_type": "display_data"
    },
    {
     "data": {
      "application/vnd.jupyter.widget-view+json": {
       "model_id": "",
       "version_major": 2,
       "version_minor": 0
      },
      "text/plain": [
       "FloatProgress(value=0.0, bar_style='info', description='Progress:', layout=Layout(height='25px', width='50%'),…"
      ]
     },
     "metadata": {},
     "output_type": "display_data"
    }
   ],
   "source": [
    "# Extract Cancelled User and Logged in user\n",
    "df_clean = df.filter((col('auth') == 'Cancelled') | (col('auth') == 'Logged In'))"
   ]
  },
  {
   "cell_type": "code",
   "execution_count": 19,
   "id": "d8e3b0b7-0158-4a59-993f-5f446faa7593",
   "metadata": {
    "execution": {
     "iopub.execute_input": "2023-09-05T02:11:36.662237Z",
     "iopub.status.busy": "2023-09-05T02:11:36.662011Z",
     "iopub.status.idle": "2023-09-05T02:11:36.715747Z",
     "shell.execute_reply": "2023-09-05T02:11:36.713803Z",
     "shell.execute_reply.started": "2023-09-05T02:11:36.662214Z"
    },
    "tags": []
   },
   "outputs": [
    {
     "data": {
      "application/vnd.jupyter.widget-view+json": {
       "model_id": "4b08ea7ef1b34a338f3fa257da26559c",
       "version_major": 2,
       "version_minor": 0
      },
      "text/plain": [
       "VBox()"
      ]
     },
     "metadata": {},
     "output_type": "display_data"
    },
    {
     "data": {
      "application/vnd.jupyter.widget-view+json": {
       "model_id": "",
       "version_major": 2,
       "version_minor": 0
      },
      "text/plain": [
       "FloatProgress(value=0.0, bar_style='info', description='Progress:', layout=Layout(height='25px', width='50%'),…"
      ]
     },
     "metadata": {},
     "output_type": "display_data"
    }
   ],
   "source": [
    "# check missing data\n",
    "# missing_value_counts = df_clean.select([sum(col(column).isNull().cast(\"int\")).alias(column + \"_missing\") for column in df_clean.columns])\n",
    "# for row in missing_value_counts.collect():\n",
    "#     for column, missing_count in row.asDict().items():\n",
    "#         print(f\"{column}: {missing_count}\")\n"
   ]
  },
  {
   "cell_type": "code",
   "execution_count": 16,
   "id": "839091c3-d211-4eaf-9a8a-1f5b94ea6b0a",
   "metadata": {
    "execution": {
     "iopub.execute_input": "2023-09-05T02:08:39.954693Z",
     "iopub.status.busy": "2023-09-05T02:08:39.954466Z",
     "iopub.status.idle": "2023-09-05T02:09:21.382846Z",
     "shell.execute_reply": "2023-09-05T02:09:21.382152Z",
     "shell.execute_reply.started": "2023-09-05T02:08:39.954669Z"
    }
   },
   "outputs": [
    {
     "data": {
      "application/vnd.jupyter.widget-view+json": {
       "model_id": "d7b568da461d4290b106109d1e9bf3de",
       "version_major": 2,
       "version_minor": 0
      },
      "text/plain": [
       "VBox()"
      ]
     },
     "metadata": {},
     "output_type": "display_data"
    },
    {
     "data": {
      "application/vnd.jupyter.widget-view+json": {
       "model_id": "",
       "version_major": 2,
       "version_minor": 0
      },
      "text/plain": [
       "FloatProgress(value=0.0, bar_style='info', description='Progress:', layout=Layout(height='25px', width='50%'),…"
      ]
     },
     "metadata": {},
     "output_type": "display_data"
    },
    {
     "name": "stdout",
     "output_type": "stream",
     "text": [
      "0"
     ]
    }
   ],
   "source": [
    "df_clean.filter(df_clean.userId == '').count()"
   ]
  },
  {
   "cell_type": "code",
   "execution_count": 20,
   "id": "7bb4f149-4d04-4cf6-bd92-05d8d1c0731b",
   "metadata": {
    "execution": {
     "iopub.execute_input": "2023-09-05T02:11:58.856393Z",
     "iopub.status.busy": "2023-09-05T02:11:58.856148Z",
     "iopub.status.idle": "2023-09-05T02:12:06.151168Z",
     "shell.execute_reply": "2023-09-05T02:12:06.150467Z",
     "shell.execute_reply.started": "2023-09-05T02:11:58.856366Z"
    }
   },
   "outputs": [
    {
     "data": {
      "application/vnd.jupyter.widget-view+json": {
       "model_id": "9d2e69f0d2e1403cac31f5cd07d7ccd7",
       "version_major": 2,
       "version_minor": 0
      },
      "text/plain": [
       "VBox()"
      ]
     },
     "metadata": {},
     "output_type": "display_data"
    },
    {
     "data": {
      "application/vnd.jupyter.widget-view+json": {
       "model_id": "",
       "version_major": 2,
       "version_minor": 0
      },
      "text/plain": [
       "FloatProgress(value=0.0, bar_style='info', description='Progress:', layout=Layout(height='25px', width='50%'),…"
      ]
     },
     "metadata": {},
     "output_type": "display_data"
    },
    {
     "name": "stdout",
     "output_type": "stream",
     "text": [
      "0"
     ]
    }
   ],
   "source": [
    "df_clean.filter(df_clean.sessionId == '').count()"
   ]
  },
  {
   "cell_type": "markdown",
   "id": "864ee069",
   "metadata": {},
   "source": [
    "0 missing data (`UserId` and `SessionId`)\n",
    "\n",
    "Please be aware that the 'artist' and 'songs' columns have more missing values, accounting for about 20% of rows. This is due to the nature of the records, which involve actions such as logging into the service and accessing the homepage."
   ]
  },
  {
   "cell_type": "markdown",
   "id": "50f39844",
   "metadata": {},
   "source": [
    "### Define Feature & Feature Engineering"
   ]
  },
  {
   "cell_type": "code",
   "execution_count": 21,
   "id": "42281c63",
   "metadata": {
    "execution": {
     "iopub.execute_input": "2023-09-05T02:12:28.997323Z",
     "iopub.status.busy": "2023-09-05T02:12:28.997097Z",
     "iopub.status.idle": "2023-09-05T02:12:29.268698Z",
     "shell.execute_reply": "2023-09-05T02:12:29.268073Z",
     "shell.execute_reply.started": "2023-09-05T02:12:28.997300Z"
    }
   },
   "outputs": [
    {
     "data": {
      "application/vnd.jupyter.widget-view+json": {
       "model_id": "74adea798f814e23a692a42dd69d0558",
       "version_major": 2,
       "version_minor": 0
      },
      "text/plain": [
       "VBox()"
      ]
     },
     "metadata": {},
     "output_type": "display_data"
    },
    {
     "data": {
      "application/vnd.jupyter.widget-view+json": {
       "model_id": "",
       "version_major": 2,
       "version_minor": 0
      },
      "text/plain": [
       "FloatProgress(value=0.0, bar_style='info', description='Progress:', layout=Layout(height='25px', width='50%'),…"
      ]
     },
     "metadata": {},
     "output_type": "display_data"
    }
   ],
   "source": [
    "# Create outcome column named \"cancel\"\n",
    "df_clean = df_clean.withColumn('cancel', when(df_clean['auth'] == 'Cancelled', 1).otherwise(0).cast(IntegerType()))"
   ]
  },
  {
   "cell_type": "code",
   "execution_count": 22,
   "id": "d66c10f6",
   "metadata": {
    "execution": {
     "iopub.execute_input": "2023-09-05T02:12:30.072571Z",
     "iopub.status.busy": "2023-09-05T02:12:30.072339Z",
     "iopub.status.idle": "2023-09-05T02:12:30.334001Z",
     "shell.execute_reply": "2023-09-05T02:12:30.333464Z",
     "shell.execute_reply.started": "2023-09-05T02:12:30.072546Z"
    }
   },
   "outputs": [
    {
     "data": {
      "application/vnd.jupyter.widget-view+json": {
       "model_id": "3805b06e5e024bd09a00e15e67d173b1",
       "version_major": 2,
       "version_minor": 0
      },
      "text/plain": [
       "VBox()"
      ]
     },
     "metadata": {},
     "output_type": "display_data"
    },
    {
     "data": {
      "application/vnd.jupyter.widget-view+json": {
       "model_id": "",
       "version_major": 2,
       "version_minor": 0
      },
      "text/plain": [
       "FloatProgress(value=0.0, bar_style='info', description='Progress:', layout=Layout(height='25px', width='50%'),…"
      ]
     },
     "metadata": {},
     "output_type": "display_data"
    }
   ],
   "source": [
    "# Convert gender to 1/0. 1 = male\n",
    "male = udf(lambda x: 1 if x == 'M' else 0, IntegerType())\n",
    "df_clean = df_clean.withColumn('Male', male('gender'))"
   ]
  },
  {
   "cell_type": "markdown",
   "id": "d941e269",
   "metadata": {},
   "source": [
    "### Convert time series data"
   ]
  },
  {
   "cell_type": "code",
   "execution_count": 24,
   "id": "8cc6b36a",
   "metadata": {
    "execution": {
     "iopub.execute_input": "2023-09-05T02:12:41.944428Z",
     "iopub.status.busy": "2023-09-05T02:12:41.944191Z",
     "iopub.status.idle": "2023-09-05T02:13:29.361870Z",
     "shell.execute_reply": "2023-09-05T02:13:29.361182Z",
     "shell.execute_reply.started": "2023-09-05T02:12:41.944402Z"
    },
    "tags": []
   },
   "outputs": [
    {
     "data": {
      "application/vnd.jupyter.widget-view+json": {
       "model_id": "776c1adf58a547f6b12c0c15db683855",
       "version_major": 2,
       "version_minor": 0
      },
      "text/plain": [
       "VBox()"
      ]
     },
     "metadata": {},
     "output_type": "display_data"
    },
    {
     "data": {
      "application/vnd.jupyter.widget-view+json": {
       "model_id": "",
       "version_major": 2,
       "version_minor": 0
      },
      "text/plain": [
       "FloatProgress(value=0.0, bar_style='info', description='Progress:', layout=Layout(height='25px', width='50%'),…"
      ]
     },
     "metadata": {},
     "output_type": "display_data"
    },
    {
     "name": "stdout",
     "output_type": "stream",
     "text": [
      "+-------+-----------------+\n",
      "|summary|         user_age|\n",
      "+-------+-----------------+\n",
      "|  count|         25480720|\n",
      "|   mean| 65.7917132639894|\n",
      "| stddev|41.19433609714086|\n",
      "|    min|              -23|\n",
      "|    max|              411|\n",
      "+-------+-----------------+"
     ]
    }
   ],
   "source": [
    "df_clean = df_clean.withColumn(\"date\", F.to_date(F.from_unixtime(col('ts')/lit(1000))))\n",
    "df_clean = df_clean.withColumn('date_created', F.to_date(F.from_unixtime(col('registration')/lit(1000))))\n",
    "df_clean = df_clean.withColumn('user_age', F.datediff(col('date'), col('date_created')))\n",
    "df_clean.describe('user_age').show()"
   ]
  },
  {
   "cell_type": "markdown",
   "id": "68f610bf",
   "metadata": {},
   "source": [
    "### Feature Generation from 'page' column"
   ]
  },
  {
   "cell_type": "code",
   "execution_count": 25,
   "id": "5552ec65",
   "metadata": {
    "execution": {
     "iopub.execute_input": "2023-09-05T02:13:35.354895Z",
     "iopub.status.busy": "2023-09-05T02:13:35.354640Z",
     "iopub.status.idle": "2023-09-05T02:14:06.735514Z",
     "shell.execute_reply": "2023-09-05T02:14:06.734821Z",
     "shell.execute_reply.started": "2023-09-05T02:13:35.354869Z"
    }
   },
   "outputs": [
    {
     "data": {
      "application/vnd.jupyter.widget-view+json": {
       "model_id": "39a0048950ab465b93ca090cebae58b0",
       "version_major": 2,
       "version_minor": 0
      },
      "text/plain": [
       "VBox()"
      ]
     },
     "metadata": {},
     "output_type": "display_data"
    },
    {
     "data": {
      "application/vnd.jupyter.widget-view+json": {
       "model_id": "",
       "version_major": 2,
       "version_minor": 0
      },
      "text/plain": [
       "FloatProgress(value=0.0, bar_style='info', description='Progress:', layout=Layout(height='25px', width='50%'),…"
      ]
     },
     "metadata": {},
     "output_type": "display_data"
    },
    {
     "name": "stdout",
     "output_type": "stream",
     "text": [
      "+--------------------+\n",
      "|                page|\n",
      "+--------------------+\n",
      "|               About|\n",
      "|          Add Friend|\n",
      "|     Add to Playlist|\n",
      "|              Cancel|\n",
      "|Cancellation Conf...|\n",
      "|           Downgrade|\n",
      "|               Error|\n",
      "|                Help|\n",
      "|                Home|\n",
      "|              Logout|\n",
      "|            NextSong|\n",
      "|         Roll Advert|\n",
      "|       Save Settings|\n",
      "|            Settings|\n",
      "|    Submit Downgrade|\n",
      "|      Submit Upgrade|\n",
      "|         Thumbs Down|\n",
      "|           Thumbs Up|\n",
      "|             Upgrade|\n",
      "+--------------------+"
     ]
    }
   ],
   "source": [
    "df_clean.select(\"page\").dropDuplicates().sort(\"page\").show()"
   ]
  },
  {
   "cell_type": "code",
   "execution_count": 26,
   "id": "45b1c843",
   "metadata": {
    "execution": {
     "iopub.execute_input": "2023-09-05T02:14:16.586126Z",
     "iopub.status.busy": "2023-09-05T02:14:16.585897Z",
     "iopub.status.idle": "2023-09-05T02:14:16.846171Z",
     "shell.execute_reply": "2023-09-05T02:14:16.845527Z",
     "shell.execute_reply.started": "2023-09-05T02:14:16.586102Z"
    }
   },
   "outputs": [
    {
     "data": {
      "application/vnd.jupyter.widget-view+json": {
       "model_id": "1410dd6d03cf4da0a435dbafbc2feb04",
       "version_major": 2,
       "version_minor": 0
      },
      "text/plain": [
       "VBox()"
      ]
     },
     "metadata": {},
     "output_type": "display_data"
    },
    {
     "data": {
      "application/vnd.jupyter.widget-view+json": {
       "model_id": "",
       "version_major": 2,
       "version_minor": 0
      },
      "text/plain": [
       "FloatProgress(value=0.0, bar_style='info', description='Progress:', layout=Layout(height='25px', width='50%'),…"
      ]
     },
     "metadata": {},
     "output_type": "display_data"
    }
   ],
   "source": [
    "# Create `Thumbs Down` feature which means negative feedback from user\n",
    "Thumbs_Down = udf(lambda x: 1 if x == 'Thumbs Down' else 0, IntegerType())\n",
    "df_clean = df_clean.withColumn('Thumbs_Down', Thumbs_Down('page'))"
   ]
  },
  {
   "cell_type": "code",
   "execution_count": 27,
   "id": "885398eb",
   "metadata": {
    "execution": {
     "iopub.execute_input": "2023-09-05T02:14:17.556317Z",
     "iopub.status.busy": "2023-09-05T02:14:17.556095Z",
     "iopub.status.idle": "2023-09-05T02:14:17.816673Z",
     "shell.execute_reply": "2023-09-05T02:14:17.816121Z",
     "shell.execute_reply.started": "2023-09-05T02:14:17.556293Z"
    }
   },
   "outputs": [
    {
     "data": {
      "application/vnd.jupyter.widget-view+json": {
       "model_id": "3143652b93fa40b094b7d210f5e1ce07",
       "version_major": 2,
       "version_minor": 0
      },
      "text/plain": [
       "VBox()"
      ]
     },
     "metadata": {},
     "output_type": "display_data"
    },
    {
     "data": {
      "application/vnd.jupyter.widget-view+json": {
       "model_id": "",
       "version_major": 2,
       "version_minor": 0
      },
      "text/plain": [
       "FloatProgress(value=0.0, bar_style='info', description='Progress:', layout=Layout(height='25px', width='50%'),…"
      ]
     },
     "metadata": {},
     "output_type": "display_data"
    }
   ],
   "source": [
    "# Create `songs` feature to calculate number of songs from users\n",
    "NextSong = udf(lambda x: 1 if x == 'NextSong' else 0, IntegerType())\n",
    "df_clean = df_clean.withColumn('songs', NextSong('page'))"
   ]
  },
  {
   "cell_type": "code",
   "execution_count": 28,
   "id": "a55eb612",
   "metadata": {
    "execution": {
     "iopub.execute_input": "2023-09-05T02:14:18.321810Z",
     "iopub.status.busy": "2023-09-05T02:14:18.321582Z",
     "iopub.status.idle": "2023-09-05T02:14:18.578199Z",
     "shell.execute_reply": "2023-09-05T02:14:18.577590Z",
     "shell.execute_reply.started": "2023-09-05T02:14:18.321785Z"
    }
   },
   "outputs": [
    {
     "data": {
      "application/vnd.jupyter.widget-view+json": {
       "model_id": "29ff986b7a9b440d8c18eeeed46d5698",
       "version_major": 2,
       "version_minor": 0
      },
      "text/plain": [
       "VBox()"
      ]
     },
     "metadata": {},
     "output_type": "display_data"
    },
    {
     "data": {
      "application/vnd.jupyter.widget-view+json": {
       "model_id": "",
       "version_major": 2,
       "version_minor": 0
      },
      "text/plain": [
       "FloatProgress(value=0.0, bar_style='info', description='Progress:', layout=Layout(height='25px', width='50%'),…"
      ]
     },
     "metadata": {},
     "output_type": "display_data"
    }
   ],
   "source": [
    "# Create `downgrades` to show if the user ever downgraded\n",
    "downgrade = udf(lambda x: 1 if x == 'Submit Downgrade' else 0, IntegerType())\n",
    "df_clean = df_clean.withColumn('downgraded', downgrade('page'))"
   ]
  },
  {
   "cell_type": "code",
   "execution_count": 29,
   "id": "ef33cc36",
   "metadata": {
    "execution": {
     "iopub.execute_input": "2023-09-05T02:14:19.034664Z",
     "iopub.status.busy": "2023-09-05T02:14:19.034438Z",
     "iopub.status.idle": "2023-09-05T02:14:19.298746Z",
     "shell.execute_reply": "2023-09-05T02:14:19.298171Z",
     "shell.execute_reply.started": "2023-09-05T02:14:19.034641Z"
    }
   },
   "outputs": [
    {
     "data": {
      "application/vnd.jupyter.widget-view+json": {
       "model_id": "86f03ae8c7484b2e8965a07057b86790",
       "version_major": 2,
       "version_minor": 0
      },
      "text/plain": [
       "VBox()"
      ]
     },
     "metadata": {},
     "output_type": "display_data"
    },
    {
     "data": {
      "application/vnd.jupyter.widget-view+json": {
       "model_id": "",
       "version_major": 2,
       "version_minor": 0
      },
      "text/plain": [
       "FloatProgress(value=0.0, bar_style='info', description='Progress:', layout=Layout(height='25px', width='50%'),…"
      ]
     },
     "metadata": {},
     "output_type": "display_data"
    }
   ],
   "source": [
    "# Create `paid` to show if the user ever downgraded\n",
    "paid = udf(lambda x: 1 if x == 'paid' else 0, IntegerType())\n",
    "df_clean = df_clean.withColumn('paid', paid('level'))"
   ]
  },
  {
   "cell_type": "markdown",
   "id": "6959b03a",
   "metadata": {},
   "source": [
    "### Create new dataframe for churn prediction - Spark SQL"
   ]
  },
  {
   "cell_type": "code",
   "execution_count": 30,
   "id": "92f5dce9",
   "metadata": {
    "execution": {
     "iopub.execute_input": "2023-09-05T02:14:20.608774Z",
     "iopub.status.busy": "2023-09-05T02:14:20.608490Z",
     "iopub.status.idle": "2023-09-05T02:14:20.898426Z",
     "shell.execute_reply": "2023-09-05T02:14:20.897648Z",
     "shell.execute_reply.started": "2023-09-05T02:14:20.608741Z"
    }
   },
   "outputs": [
    {
     "data": {
      "application/vnd.jupyter.widget-view+json": {
       "model_id": "e4493c90684a43d6b7996314b5b00db0",
       "version_major": 2,
       "version_minor": 0
      },
      "text/plain": [
       "VBox()"
      ]
     },
     "metadata": {},
     "output_type": "display_data"
    },
    {
     "data": {
      "application/vnd.jupyter.widget-view+json": {
       "model_id": "",
       "version_major": 2,
       "version_minor": 0
      },
      "text/plain": [
       "FloatProgress(value=0.0, bar_style='info', description='Progress:', layout=Layout(height='25px', width='50%'),…"
      ]
     },
     "metadata": {},
     "output_type": "display_data"
    }
   ],
   "source": [
    "# user information\n",
    "df_clean.createOrReplaceTempView(\"df_clean_temp\")\n",
    "users = spark.sql(\"\"\"\n",
    "    SELECT\n",
    "        userId AS userId,\n",
    "        male AS gender,\n",
    "        MAX(user_age) AS user_age,\n",
    "        MAX(paid) AS paid,\n",
    "        MAX(downgraded) AS downgraded,\n",
    "        MAX(cancel) AS canceled\n",
    "    FROM\n",
    "        df_clean_temp\n",
    "    GROUP BY\n",
    "        userId, male, date_created\n",
    "\"\"\")"
   ]
  },
  {
   "cell_type": "code",
   "execution_count": 31,
   "id": "bb623b7b",
   "metadata": {
    "execution": {
     "iopub.execute_input": "2023-09-05T02:14:29.487894Z",
     "iopub.status.busy": "2023-09-05T02:14:29.487651Z",
     "iopub.status.idle": "2023-09-05T02:15:32.948291Z",
     "shell.execute_reply": "2023-09-05T02:15:32.947605Z",
     "shell.execute_reply.started": "2023-09-05T02:14:29.487870Z"
    }
   },
   "outputs": [
    {
     "data": {
      "application/vnd.jupyter.widget-view+json": {
       "model_id": "d2abfc713c0d4d32883a211bd9e0c053",
       "version_major": 2,
       "version_minor": 0
      },
      "text/plain": [
       "VBox()"
      ]
     },
     "metadata": {},
     "output_type": "display_data"
    },
    {
     "data": {
      "application/vnd.jupyter.widget-view+json": {
       "model_id": "",
       "version_major": 2,
       "version_minor": 0
      },
      "text/plain": [
       "FloatProgress(value=0.0, bar_style='info', description='Progress:', layout=Layout(height='25px', width='50%'),…"
      ]
     },
     "metadata": {},
     "output_type": "display_data"
    },
    {
     "name": "stdout",
     "output_type": "stream",
     "text": [
      "[Row(userId='1410808', sessionId=26032, start_date=datetime.date(2018, 10, 1), end_date=datetime.date(2018, 10, 2), Thumbs_Down=1, songs_num=32, artists_num=32)]"
     ]
    }
   ],
   "source": [
    "# Interaction information by user and session\n",
    "df_clean.createOrReplaceTempView(\"df_clean_temp\")\n",
    "interaction = spark.sql(\"\"\"\n",
    "    SELECT\n",
    "        userId AS userId,\n",
    "        sessionId,\n",
    "        MIN(date) AS start_date,\n",
    "        MAX(date) AS end_date,\n",
    "        SUM(Thumbs_Down) AS Thumbs_Down,\n",
    "        SUM(songs) AS songs_num,\n",
    "        COUNT(DISTINCT artist) AS artists_num\n",
    "    FROM\n",
    "        df_clean_temp\n",
    "    GROUP BY\n",
    "        userId, sessionId\n",
    "\"\"\")\n",
    "\n",
    "interaction.take(1)"
   ]
  },
  {
   "cell_type": "code",
   "execution_count": 32,
   "id": "33c89654",
   "metadata": {
    "execution": {
     "iopub.execute_input": "2023-09-05T02:15:54.058544Z",
     "iopub.status.busy": "2023-09-05T02:15:54.058286Z",
     "iopub.status.idle": "2023-09-05T02:15:54.328796Z",
     "shell.execute_reply": "2023-09-05T02:15:54.328063Z",
     "shell.execute_reply.started": "2023-09-05T02:15:54.058518Z"
    }
   },
   "outputs": [
    {
     "data": {
      "application/vnd.jupyter.widget-view+json": {
       "model_id": "d9e147bd68ed40fd80b5cbfbe9ea02f5",
       "version_major": 2,
       "version_minor": 0
      },
      "text/plain": [
       "VBox()"
      ]
     },
     "metadata": {},
     "output_type": "display_data"
    },
    {
     "data": {
      "application/vnd.jupyter.widget-view+json": {
       "model_id": "",
       "version_major": 2,
       "version_minor": 0
      },
      "text/plain": [
       "FloatProgress(value=0.0, bar_style='info', description='Progress:', layout=Layout(height='25px', width='50%'),…"
      ]
     },
     "metadata": {},
     "output_type": "display_data"
    }
   ],
   "source": [
    "# Interaction infomration by user\n",
    "interaction.createOrReplaceTempView(\"measures_temp\")\n",
    "interaction_user = spark.sql(\"\"\"\n",
    "    SELECT\n",
    "        userId AS userId,\n",
    "        COUNT(sessionId) AS total_session,\n",
    "        AVG(Thumbs_Down) AS avg_Thumbs_Down,\n",
    "        AVG(songs_num) AS avg_songs,\n",
    "        AVG(artists_num) AS avg_artists_num,\n",
    "        AVG(session_gap) AS avg_session_gap\n",
    "    FROM (\n",
    "        SELECT\n",
    "            *,\n",
    "            LAG(end_date) OVER (PARTITION BY userId ORDER BY start_date) AS prev_end_date,\n",
    "            DATEDIFF(start_date, LAG(end_date) OVER (PARTITION BY userId ORDER BY start_date)) AS session_gap\n",
    "        FROM\n",
    "            measures_temp\n",
    "    ) AS temp\n",
    "    GROUP BY\n",
    "        userId\n",
    "\"\"\")\n"
   ]
  },
  {
   "cell_type": "code",
   "execution_count": 33,
   "id": "de868dd9",
   "metadata": {
    "execution": {
     "iopub.execute_input": "2023-09-05T02:15:55.238468Z",
     "iopub.status.busy": "2023-09-05T02:15:55.238249Z",
     "iopub.status.idle": "2023-09-05T02:17:22.785207Z",
     "shell.execute_reply": "2023-09-05T02:17:22.784458Z",
     "shell.execute_reply.started": "2023-09-05T02:15:55.238444Z"
    }
   },
   "outputs": [
    {
     "data": {
      "application/vnd.jupyter.widget-view+json": {
       "model_id": "34503994f65b47bd8ef764f420ecf69c",
       "version_major": 2,
       "version_minor": 0
      },
      "text/plain": [
       "VBox()"
      ]
     },
     "metadata": {},
     "output_type": "display_data"
    },
    {
     "data": {
      "application/vnd.jupyter.widget-view+json": {
       "model_id": "",
       "version_major": 2,
       "version_minor": 0
      },
      "text/plain": [
       "FloatProgress(value=0.0, bar_style='info', description='Progress:', layout=Layout(height='25px', width='50%'),…"
      ]
     },
     "metadata": {},
     "output_type": "display_data"
    },
    {
     "name": "stdout",
     "output_type": "stream",
     "text": [
      "users:  22277  interaction_user:  22277"
     ]
    }
   ],
   "source": [
    "print('users: ',users.count(),' interaction_user: ',interaction_user.count())"
   ]
  },
  {
   "cell_type": "code",
   "execution_count": 34,
   "id": "85bafd93",
   "metadata": {
    "execution": {
     "iopub.execute_input": "2023-09-05T02:18:18.893009Z",
     "iopub.status.busy": "2023-09-05T02:18:18.892711Z",
     "iopub.status.idle": "2023-09-05T02:18:19.157427Z",
     "shell.execute_reply": "2023-09-05T02:18:19.156887Z",
     "shell.execute_reply.started": "2023-09-05T02:18:18.892975Z"
    }
   },
   "outputs": [
    {
     "data": {
      "application/vnd.jupyter.widget-view+json": {
       "model_id": "1e1ca452eedd4ff39b5ce27448e947bd",
       "version_major": 2,
       "version_minor": 0
      },
      "text/plain": [
       "VBox()"
      ]
     },
     "metadata": {},
     "output_type": "display_data"
    },
    {
     "data": {
      "application/vnd.jupyter.widget-view+json": {
       "model_id": "",
       "version_major": 2,
       "version_minor": 0
      },
      "text/plain": [
       "FloatProgress(value=0.0, bar_style='info', description='Progress:', layout=Layout(height='25px', width='50%'),…"
      ]
     },
     "metadata": {},
     "output_type": "display_data"
    }
   ],
   "source": [
    "df_model = users.join(interaction_user, on = 'userId')"
   ]
  },
  {
   "cell_type": "markdown",
   "id": "a5b1cd13",
   "metadata": {},
   "source": [
    "## Modeling"
   ]
  },
  {
   "cell_type": "code",
   "execution_count": 35,
   "id": "e16c93c5",
   "metadata": {
    "execution": {
     "iopub.execute_input": "2023-09-05T02:18:23.773676Z",
     "iopub.status.busy": "2023-09-05T02:18:23.773456Z",
     "iopub.status.idle": "2023-09-05T02:18:24.044645Z",
     "shell.execute_reply": "2023-09-05T02:18:24.043957Z",
     "shell.execute_reply.started": "2023-09-05T02:18:23.773652Z"
    }
   },
   "outputs": [
    {
     "data": {
      "application/vnd.jupyter.widget-view+json": {
       "model_id": "f09426c59afd4ae2b8c735ff4a0733c0",
       "version_major": 2,
       "version_minor": 0
      },
      "text/plain": [
       "VBox()"
      ]
     },
     "metadata": {},
     "output_type": "display_data"
    },
    {
     "data": {
      "application/vnd.jupyter.widget-view+json": {
       "model_id": "",
       "version_major": 2,
       "version_minor": 0
      },
      "text/plain": [
       "FloatProgress(value=0.0, bar_style='info', description='Progress:', layout=Layout(height='25px', width='50%'),…"
      ]
     },
     "metadata": {},
     "output_type": "display_data"
    }
   ],
   "source": [
    "# Assemble Features\n",
    "assembler = VectorAssembler(inputCols=['gender','user_age','paid',\\\n",
    "                                       'downgraded','total_session',\\\n",
    "                                      'avg_Thumbs_Down','avg_artists_num','avg_session_gap','avg_songs'],\\\n",
    "                            outputCol='raw_features',handleInvalid = 'skip')"
   ]
  },
  {
   "cell_type": "code",
   "execution_count": 36,
   "id": "00a3e7b8",
   "metadata": {
    "execution": {
     "iopub.execute_input": "2023-09-05T02:18:24.720928Z",
     "iopub.status.busy": "2023-09-05T02:18:24.720709Z",
     "iopub.status.idle": "2023-09-05T02:18:24.779123Z",
     "shell.execute_reply": "2023-09-05T02:18:24.778551Z",
     "shell.execute_reply.started": "2023-09-05T02:18:24.720904Z"
    }
   },
   "outputs": [
    {
     "data": {
      "application/vnd.jupyter.widget-view+json": {
       "model_id": "84489a06babd46ff85c8093d0a091127",
       "version_major": 2,
       "version_minor": 0
      },
      "text/plain": [
       "VBox()"
      ]
     },
     "metadata": {},
     "output_type": "display_data"
    },
    {
     "data": {
      "application/vnd.jupyter.widget-view+json": {
       "model_id": "",
       "version_major": 2,
       "version_minor": 0
      },
      "text/plain": [
       "FloatProgress(value=0.0, bar_style='info', description='Progress:', layout=Layout(height='25px', width='50%'),…"
      ]
     },
     "metadata": {},
     "output_type": "display_data"
    },
    {
     "name": "stdout",
     "output_type": "stream",
     "text": [
      "root\n",
      " |-- userId: string (nullable = true)\n",
      " |-- gender: integer (nullable = true)\n",
      " |-- user_age: integer (nullable = true)\n",
      " |-- paid: integer (nullable = true)\n",
      " |-- downgraded: integer (nullable = true)\n",
      " |-- canceled: integer (nullable = true)\n",
      " |-- total_session: long (nullable = false)\n",
      " |-- avg_Thumbs_Down: double (nullable = true)\n",
      " |-- avg_songs: double (nullable = true)\n",
      " |-- avg_artists_num: double (nullable = true)\n",
      " |-- avg_session_gap: double (nullable = true)"
     ]
    }
   ],
   "source": [
    "df_model.printSchema()"
   ]
  },
  {
   "cell_type": "markdown",
   "id": "48e5d4ce",
   "metadata": {},
   "source": [
    "### Logistic regression"
   ]
  },
  {
   "cell_type": "code",
   "execution_count": 45,
   "id": "8c9c2e19",
   "metadata": {
    "execution": {
     "iopub.execute_input": "2023-09-05T02:57:40.163667Z",
     "iopub.status.busy": "2023-09-05T02:57:40.162939Z",
     "iopub.status.idle": "2023-09-05T02:57:40.248293Z",
     "shell.execute_reply": "2023-09-05T02:57:40.247736Z",
     "shell.execute_reply.started": "2023-09-05T02:57:40.163622Z"
    },
    "tags": []
   },
   "outputs": [
    {
     "data": {
      "application/vnd.jupyter.widget-view+json": {
       "model_id": "95dd22cf1b244a19b6ac78214a3b2e02",
       "version_major": 2,
       "version_minor": 0
      },
      "text/plain": [
       "VBox()"
      ]
     },
     "metadata": {},
     "output_type": "display_data"
    },
    {
     "data": {
      "application/vnd.jupyter.widget-view+json": {
       "model_id": "",
       "version_major": 2,
       "version_minor": 0
      },
      "text/plain": [
       "FloatProgress(value=0.0, bar_style='info', description='Progress:', layout=Layout(height='25px', width='50%'),…"
      ]
     },
     "metadata": {},
     "output_type": "display_data"
    }
   ],
   "source": [
    "# ML pipeline\n",
    "scaler = MinMaxScaler(inputCol=\"raw_features\", outputCol=\"features\")\n",
    "preprocess_stages = [assembler, scaler]\n",
    "\n",
    "rf = RandomForestClassifier(labelCol=\"canceled\", featuresCol=\"features\")\n",
    "lr = LogisticRegression(labelCol=\"canceled\", featuresCol=\"features\")\n",
    "\n",
    "pipeline = Pipeline(stages=[*preprocess_stages, lr])\n",
    "\n",
    "train_data, test_data = df_model.randomSplit([0.7, 0.3], seed=42)\n",
    "\n",
    "param_grid = ParamGridBuilder() \\\n",
    "    .addGrid(lr.regParam, [0.01, 0.1]) \\\n",
    "    .build()\n",
    "\n",
    "evaluator = BinaryClassificationEvaluator(rawPredictionCol=\"rawPrediction\", labelCol=\"canceled\", metricName=\"areaUnderROC\")\n",
    "\n",
    "cross_val = CrossValidator(estimator=pipeline,\n",
    "                           estimatorParamMaps=param_grid,\n",
    "                           evaluator=evaluator,\n",
    "                           numFolds=5,\n",
    "                           seed=42)\n",
    "\n",
    "model = cross_val.fit(train_data)\n"
   ]
  },
  {
   "cell_type": "code",
   "execution_count": 44,
   "id": "a148c6e4-0a89-4697-836a-b738dd178f7f",
   "metadata": {
    "execution": {
     "iopub.execute_input": "2023-09-05T02:51:53.550641Z",
     "iopub.status.busy": "2023-09-05T02:51:53.550417Z",
     "iopub.status.idle": "2023-09-05T02:53:49.420242Z",
     "shell.execute_reply": "2023-09-05T02:53:49.419487Z",
     "shell.execute_reply.started": "2023-09-05T02:51:53.550617Z"
    }
   },
   "outputs": [
    {
     "data": {
      "application/vnd.jupyter.widget-view+json": {
       "model_id": "ea0986f41cb14939bb1b0b84fe2c4cc6",
       "version_major": 2,
       "version_minor": 0
      },
      "text/plain": [
       "VBox()"
      ]
     },
     "metadata": {},
     "output_type": "display_data"
    },
    {
     "data": {
      "application/vnd.jupyter.widget-view+json": {
       "model_id": "",
       "version_major": 2,
       "version_minor": 0
      },
      "text/plain": [
       "FloatProgress(value=0.0, bar_style='info', description='Progress:', layout=Layout(height='25px', width='50%'),…"
      ]
     },
     "metadata": {},
     "output_type": "display_data"
    },
    {
     "name": "stdout",
     "output_type": "stream",
     "text": [
      "Best regParam: 0.01\n",
      "Area Under ROC: 0.8130784048962069"
     ]
    }
   ],
   "source": [
    "# Evaluate\n",
    "test_results = model.transform(test_data)\n",
    "area_under_roc = evaluator.evaluate(test_results)\n",
    "\n",
    "\n",
    "best_model = model.bestModel\n",
    "best_lr_model = best_model.stages[-1] \n",
    "best_reg_param = best_lr_model.getOrDefault(\"regParam\")\n",
    "\n",
    "print(f\"Best regParam: {best_reg_param}\")\n",
    "print(f\"Area Under ROC: {area_under_roc}\")"
   ]
  },
  {
   "cell_type": "markdown",
   "id": "38ffeede",
   "metadata": {},
   "source": [
    "### Random Forest"
   ]
  },
  {
   "cell_type": "code",
   "execution_count": 335,
   "id": "2a9228b8",
   "metadata": {},
   "outputs": [
    {
     "name": "stderr",
     "output_type": "stream",
     "text": [
      "                                                                                \r"
     ]
    }
   ],
   "source": [
    "# ML pipeline\n",
    "pipeline = Pipeline(stages=[*preprocess_stages, rf])\n",
    "\n",
    "train_data, test_data = df_model.randomSplit([0.7, 0.3], seed=42)\n",
    "\n",
    "param_grid = ParamGridBuilder() \\\n",
    "    .addGrid(rf.maxDepth, [5, 10]) \\\n",
    "    .build()\n",
    "\n",
    "evaluator = BinaryClassificationEvaluator(rawPredictionCol=\"rawPrediction\", labelCol=\"canceled\", metricName=\"areaUnderROC\")\n",
    "\n",
    "cross_val = CrossValidator(estimator=pipeline,\n",
    "                           estimatorParamMaps=param_grid,\n",
    "                           evaluator=evaluator,\n",
    "                           numFolds=5,\n",
    "                           seed=42)\n",
    "\n",
    "rf_model = cross_val.fit(train_data)\n",
    "\n",
    "# evaluate\n",
    "test_results = rf_model.transform(test_data)\n",
    "area_under_roc = evaluator.evaluate(test_results)"
   ]
  },
  {
   "cell_type": "code",
   "execution_count": 336,
   "id": "4486100a",
   "metadata": {},
   "outputs": [
    {
     "name": "stdout",
     "output_type": "stream",
     "text": [
      "Best maxDepth: 10\n",
      "Area Under ROC: 0.787267080745342\n"
     ]
    }
   ],
   "source": [
    "best_model = rf_model.bestModel\n",
    "best_rf_model = best_model.stages[-1]\n",
    "best_rf_param = best_rf_model.getOrDefault(\"maxDepth\")\n",
    "\n",
    "print(f\"Best maxDepth: {best_rf_param}\")\n",
    "\n",
    "print(f\"Area Under ROC: {area_under_roc}\")"
   ]
  }
 ],
 "metadata": {
  "kernelspec": {
   "display_name": "PySpark",
   "language": "",
   "name": "pysparkkernel"
  },
  "language_info": {
   "codemirror_mode": {
    "name": "python",
    "version": 3
   },
   "mimetype": "text/x-python",
   "name": "pyspark",
   "pygments_lexer": "python3"
  }
 },
 "nbformat": 4,
 "nbformat_minor": 5
}
